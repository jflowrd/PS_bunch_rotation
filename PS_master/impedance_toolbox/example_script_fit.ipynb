{
 "cells": [
  {
   "cell_type": "markdown",
   "metadata": {
    "slideshow": {
     "slide_type": "slide"
    }
   },
   "source": [
    "# Evaluation of the RF losses due to the beam coupling impedance\n",
    "\n",
    "*A. Lasheen*"
   ]
  },
  {
   "cell_type": "markdown",
   "metadata": {
    "slideshow": {
     "slide_type": "slide"
    }
   },
   "source": [
    "# Importing the python modules"
   ]
  },
  {
   "cell_type": "markdown",
   "metadata": {
    "slideshow": {
     "slide_type": "fragment"
    }
   },
   "source": [
    "## General import"
   ]
  },
  {
   "cell_type": "code",
   "execution_count": 1,
   "metadata": {
    "collapsed": true
   },
   "outputs": [],
   "source": [
    "%matplotlib inline\n",
    "import numpy as np\n",
    "import matplotlib.pyplot as plt"
   ]
  },
  {
   "cell_type": "markdown",
   "metadata": {
    "slideshow": {
     "slide_type": "fragment"
    }
   },
   "source": [
    "## Impedance tools import"
   ]
  },
  {
   "cell_type": "code",
   "execution_count": 2,
   "metadata": {
    "collapsed": true
   },
   "outputs": [],
   "source": [
    "from impedance_toolbox.impedance_params import ImpedanceParameters"
   ]
  },
  {
   "cell_type": "markdown",
   "metadata": {
    "slideshow": {
     "slide_type": "slide"
    }
   },
   "source": [
    "## Adding an impedance source"
   ]
  },
  {
   "cell_type": "markdown",
   "metadata": {
    "slideshow": {
     "slide_type": "fragment"
    }
   },
   "source": [
    "### Importing an impedance source or a full impedance model"
   ]
  },
  {
   "cell_type": "code",
   "execution_count": 3,
   "metadata": {
    "collapsed": true
   },
   "outputs": [],
   "source": [
    "impedanceDirectory = '../SPS_impedance'"
   ]
  },
  {
   "cell_type": "markdown",
   "metadata": {
    "slideshow": {
     "slide_type": "fragment"
    }
   },
   "source": [
    "### Creating the ImpedanceParameters object"
   ]
  },
  {
   "cell_type": "code",
   "execution_count": 4,
   "metadata": {
    "collapsed": true
   },
   "outputs": [],
   "source": [
    "impedParams = ImpedanceParameters(impedanceDirectory)"
   ]
  },
  {
   "cell_type": "markdown",
   "metadata": {
    "slideshow": {
     "slide_type": "fragment"
    }
   },
   "source": [
    "### Adding some resonators to the model (specifying the frequency array)"
   ]
  },
  {
   "cell_type": "code",
   "execution_count": 5,
   "metadata": {
    "collapsed": false
   },
   "outputs": [
    {
     "name": "stderr",
     "output_type": "stream",
     "text": [
      "blond\\impedances\\impedance_sources.py:236: RuntimeWarning: divide by zero encountered in true_divide\n",
      "  self.frequency_R[i] / self.frequency_array))\n",
      "blond\\impedances\\impedance_sources.py:236: RuntimeWarning: invalid value encountered in multiply\n",
      "  self.frequency_R[i] / self.frequency_array))\n",
      "blond\\impedances\\impedance_sources.py:236: RuntimeWarning: invalid value encountered in true_divide\n",
      "  self.frequency_R[i] / self.frequency_array))\n"
     ]
    }
   ],
   "source": [
    "impedParams.addResonators([360.5, 29.7119e3], \n",
    "                          [149e6, 781e6], \n",
    "                          [1119, 2198], \n",
    "                          freqArray=np.linspace(0, 1e9, 50000))"
   ]
  },
  {
   "cell_type": "markdown",
   "metadata": {
    "slideshow": {
     "slide_type": "subslide"
    }
   },
   "source": [
    "### Plotting the impedance"
   ]
  },
  {
   "cell_type": "code",
   "execution_count": 6,
   "metadata": {
    "collapsed": false
   },
   "outputs": [
    {
     "data": {
      "image/png": "[encoded data removed]",
      "text/plain": [
       "<matplotlib.figure.Figure at 0x7ac9208>"
      ]
     },
     "metadata": {},
     "output_type": "display_data"
    }
   ],
   "source": [
    "plt.figure('Impedance')\n",
    "plt.clf()\n",
    "plt.plot(impedParams.freqArray/1e9, np.abs(impedParams.impedance))\n",
    "plt.xlabel('Frequency [GHz]')\n",
    "plt.ylabel('Impedance [$\\\\Omega$]')\n",
    "plt.tight_layout()"
   ]
  },
  {
   "cell_type": "markdown",
   "metadata": {
    "slideshow": {
     "slide_type": "slide"
    }
   },
   "source": [
    "## Fitting the impedance with resonators"
   ]
  },
  {
   "cell_type": "markdown",
   "metadata": {
    "slideshow": {
     "slide_type": "fragment"
    }
   },
   "source": [
    "### Using an initial guess to find roughly R, f and Q"
   ]
  },
  {
   "cell_type": "code",
   "execution_count": 7,
   "metadata": {
    "collapsed": false
   },
   "outputs": [
    {
     "name": "stdout",
     "output_type": "stream",
     "text": [
      "(array([   360.02990375,  29702.87267826]), array([  1.49002980e+08,   7.80995620e+08]), array([ 1241.66666667,  2297.        ]))\n"
     ]
    }
   ],
   "source": [
    "r_start, f_start, Q_start = impedParams.fitInitialGuess()\n",
    "\n",
    "print(r_start, f_start, Q_start)"
   ]
  },
  {
   "cell_type": "markdown",
   "metadata": {
    "slideshow": {
     "slide_type": "subslide"
    }
   },
   "source": [
    "### Using the initial guess to make the fit, with +-10% bounds on R and f"
   ]
  },
  {
   "cell_type": "code",
   "execution_count": 8,
   "metadata": {
    "collapsed": false
   },
   "outputs": [
    {
     "name": "stderr",
     "output_type": "stream",
     "text": [
      "C:\\Software\\Anaconda2\\lib\\site-packages\\scipy\\optimize\\_minimize.py:394: RuntimeWarning: Method Nelder-Mead cannot handle constraints nor bounds.\n",
      "  RuntimeWarning)\n",
      "impedance_toolbox\\impedance_params.py:254: RuntimeWarning: divide by zero encountered in log\n",
      "  residue = np.sqrt(np.nansum(( np.log(np.abs(impedanceTable[:,1] + impedanceTable[:,2]*1j)) - np.log(np.abs(resonatorForFit.impedance)))**2))\n",
      "impedance_toolbox\\impedance_params.py:254: RuntimeWarning: invalid value encountered in subtract\n",
      "  residue = np.sqrt(np.nansum(( np.log(np.abs(impedanceTable[:,1] + impedanceTable[:,2]*1j)) - np.log(np.abs(resonatorForFit.impedance)))**2))\n"
     ]
    },
    {
     "name": "stdout",
     "output_type": "stream",
     "text": [
      "Optimization terminated successfully.\n",
      "         Current function value: 0.000013\n",
      "         Iterations: 535\n",
      "         Function evaluations: 847\n",
      "(array([   360.50019602,  29711.89613222]), array([  1.49000000e+08,   7.81000000e+08]), array([ 1119.00064657,  2197.99971462]))\n"
     ]
    }
   ],
   "source": [
    "fittedParameters = impedParams.fitResonators(r_start, \n",
    "                                             f_start, \n",
    "                                             Q_start, \n",
    "                                             RShuntBound = 0.1, \n",
    "                                             freqBound = 0.1, \n",
    "                                             QBound = None,\n",
    "                                             RShuntScale=1e3, \n",
    "                                             freqScale=1e9, \n",
    "                                             QScale=1e3)\n",
    "\n",
    "print(fittedParameters)"
   ]
  },
  {
   "cell_type": "markdown",
   "metadata": {
    "slideshow": {
     "slide_type": "subslide"
    }
   },
   "source": [
    "### Using the previous result with no boundary on R and f for fine results"
   ]
  },
  {
   "cell_type": "code",
   "execution_count": 9,
   "metadata": {
    "collapsed": false
   },
   "outputs": [
    {
     "name": "stdout",
     "output_type": "stream",
     "text": [
      "Optimization terminated successfully.\n",
      "         Current function value: 0.000013\n",
      "         Iterations: 145\n",
      "         Function evaluations: 265\n",
      "(array([   360.50019602,  29711.89613222]), array([  1.49000000e+08,   7.81000000e+08]), array([ 1119.00064657,  2197.99971462]))\n"
     ]
    }
   ],
   "source": [
    "fittedParameters = impedParams.fitResonators(fittedParameters[0], \n",
    "                                             fittedParameters[1], \n",
    "                                             fittedParameters[2],\n",
    "                                             RShuntScale=1e3, \n",
    "                                             freqScale=1e9, \n",
    "                                             QScale=1e3)\n",
    "\n",
    "print(fittedParameters)"
   ]
  },
  {
   "cell_type": "markdown",
   "metadata": {
    "slideshow": {
     "slide_type": "subslide"
    }
   },
   "source": [
    "### Plotting the result of the fit in three steps"
   ]
  },
  {
   "cell_type": "code",
   "execution_count": 10,
   "metadata": {
    "collapsed": false
   },
   "outputs": [
    {
     "data": {
      "image/png": "[encoded data removed]",
      "text/plain": [
       "<matplotlib.figure.Figure at 0x7a5de48>"
      ]
     },
     "metadata": {},
     "output_type": "display_data"
    }
   ],
   "source": [
    "plt.figure('Impedance')\n",
    "plt.clf()\n",
    "plt.plot(impedParams.freqArray/1e9, np.abs(impedParams.impedance))\n",
    "plt.plot(impedParams.resonatorForFit.frequency_array/1e9, np.abs(impedParams.resonatorForFit.impedance))\n",
    "plt.xlabel('Frequency [GHz]')\n",
    "plt.ylabel('Impedance [$\\\\Omega$]')\n",
    "plt.tight_layout()"
   ]
  },
  {
   "cell_type": "markdown",
   "metadata": {
    "slideshow": {
     "slide_type": "slide"
    }
   },
   "source": [
    "### Fitting only in a given window in frequency (the second peak)"
   ]
  },
  {
   "cell_type": "code",
   "execution_count": 11,
   "metadata": {
    "collapsed": false
   },
   "outputs": [
    {
     "name": "stdout",
     "output_type": "stream",
     "text": [
      "Optimization terminated successfully.\n",
      "         Current function value: 0.203579\n",
      "         Iterations: 139\n",
      "         Function evaluations: 245\n",
      "(array([ 29714.63995315]), array([  7.81000558e+08]), array([ 2198.41559325]))\n"
     ]
    }
   ],
   "source": [
    "fittedParameters = impedParams.fitResonators(r_start[1]*0.8, \n",
    "                                             f_start[1], \n",
    "                                             Q_start[1], \n",
    "                                             frequencyWindow=[0.6e9,1.0e9],\n",
    "                                             RShuntScale=1e3, \n",
    "                                             freqScale=1e9, \n",
    "                                             QScale=1e3)\n",
    "\n",
    "print(fittedParameters)"
   ]
  },
  {
   "cell_type": "markdown",
   "metadata": {
    "slideshow": {
     "slide_type": "subslide"
    }
   },
   "source": [
    "### Plotting the result of the fit using a window"
   ]
  },
  {
   "cell_type": "code",
   "execution_count": 12,
   "metadata": {
    "collapsed": false
   },
   "outputs": [
    {
     "data": {
      "image/png": "[encoded data removed]",
      "text/plain": [
       "<matplotlib.figure.Figure at 0x800d400>"
      ]
     },
     "metadata": {},
     "output_type": "display_data"
    }
   ],
   "source": [
    "plt.figure('Impedance')\n",
    "plt.clf()\n",
    "plt.plot(impedParams.freqArray/1e9, np.abs(impedParams.impedance))\n",
    "plt.plot(impedParams.resonatorForFit.frequency_array/1e9, np.abs(impedParams.resonatorForFit.impedance))\n",
    "plt.xlabel('Frequency [GHz]')\n",
    "plt.ylabel('Impedance [$\\\\Omega$]')\n",
    "plt.tight_layout()"
   ]
  },
  {
   "cell_type": "markdown",
   "metadata": {
    "slideshow": {
     "slide_type": "slide"
    }
   },
   "source": [
    "### All the available options to perform fits"
   ]
  },
  {
   "cell_type": "raw",
   "metadata": {},
   "source": [
    "fitResonators(R_S, frequency_R, Q, frequencyWindow = None,\n",
    "              RShuntBound = None, freqBound = None, QBound = None,\n",
    "              RShuntScale=1, freqScale=1, QScale=1, \n",
    "              method='Nelder-Mead', fitResidue = 'log_total')"
   ]
  }
 ],
 "metadata": {
  "celltoolbar": "Slideshow",
  "kernelspec": {
   "display_name": "Python 2",
   "language": "python",
   "name": "python2"
  },
  "language_info": {
   "codemirror_mode": {
    "name": "ipython",
    "version": 2
   },
   "file_extension": ".py",
   "mimetype": "text/x-python",
   "name": "python",
   "nbconvert_exporter": "python",
   "pygments_lexer": "ipython2",
   "version": "2.7.11"
  }
 },
 "nbformat": 4,
 "nbformat_minor": 0
}
