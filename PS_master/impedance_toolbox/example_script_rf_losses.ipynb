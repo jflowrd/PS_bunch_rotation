{
 "cells": [
  {
   "cell_type": "markdown",
   "metadata": {
    "slideshow": {
     "slide_type": "slide"
    }
   },
   "source": [
    "# Evaluation of the RF losses due to the beam coupling impedance\n",
    "\n",
    "*A. Lasheen*"
   ]
  },
  {
   "cell_type": "markdown",
   "metadata": {
    "slideshow": {
     "slide_type": "slide"
    }
   },
   "source": [
    "# Importing the python modules"
   ]
  },
  {
   "cell_type": "markdown",
   "metadata": {
    "slideshow": {
     "slide_type": "fragment"
    }
   },
   "source": [
    "## General import"
   ]
  },
  {
   "cell_type": "code",
   "execution_count": 27,
   "metadata": {
    "collapsed": true,
    "slideshow": {
     "slide_type": "-"
    }
   },
   "outputs": [],
   "source": [
    "%matplotlib inline\n",
    "import numpy as np\n",
    "import matplotlib.pyplot as plt\n",
    "from scipy.constants import e"
   ]
  },
  {
   "cell_type": "markdown",
   "metadata": {
    "slideshow": {
     "slide_type": "fragment"
    }
   },
   "source": [
    "## Impedance tools imports"
   ]
  },
  {
   "cell_type": "code",
   "execution_count": 28,
   "metadata": {
    "collapsed": false
   },
   "outputs": [],
   "source": [
    "from impedance_toolbox.machine_params import MachineParameters\n",
    "from impedance_toolbox.impedance_params import ImpedanceParameters"
   ]
  },
  {
   "cell_type": "markdown",
   "metadata": {
    "slideshow": {
     "slide_type": "slide"
    }
   },
   "source": [
    "# Defining the machine parameters"
   ]
  },
  {
   "cell_type": "markdown",
   "metadata": {
    "slideshow": {
     "slide_type": "fragment"
    }
   },
   "source": [
    "## Input file for most common machine and beam parameters"
   ]
  },
  {
   "cell_type": "code",
   "execution_count": 29,
   "metadata": {
    "collapsed": true,
    "slideshow": {
     "slide_type": "-"
    }
   },
   "outputs": [],
   "source": [
    "machineParamsInput = './beams/LHC/LHC25ns_flat_top.yml'"
   ]
  },
  {
   "cell_type": "raw",
   "metadata": {
    "slideshow": {
     "slide_type": "subslide"
    }
   },
   "source": [
    "Example for the SPS machine and beam parameters at flat top for nominal LHC beam\n",
    "\n",
    "Bunch parameters:\n",
    "  Binomial exponent: 1.5\n",
    "  Bunch length [ns]: 1.65\n",
    "  Intensity per bunch [1e10 ppb]: 12\n",
    "  Line density: binomial\n",
    "Filling scheme:\n",
    "  Buckets between batches: 45\n",
    "  Buckets between bunches: 5\n",
    "  Buckets between fills: 1\n",
    "  Number of batches: 4\n",
    "  Number of bunches: 72\n",
    "  Number of fills: 1\n",
    "General parameters:\n",
    "  Circumference [m]: 6911.5038\n",
    "  Momentum [1e9 eV/c]: 450\n",
    "  Particle type: proton\n",
    "  Transition gamma: 17.95142852\n",
    "RF parameters:\n",
    "  Harmonic numbers:\n",
    "  - 4620"
   ]
  },
  {
   "cell_type": "markdown",
   "metadata": {
    "slideshow": {
     "slide_type": "slide"
    }
   },
   "source": [
    "# Defining the machine parameters"
   ]
  },
  {
   "cell_type": "markdown",
   "metadata": {},
   "source": [
    "## Input file for most common machine and beam parameters"
   ]
  },
  {
   "cell_type": "code",
   "execution_count": 30,
   "metadata": {
    "collapsed": true
   },
   "outputs": [],
   "source": [
    "machineParamsInput = './beams/LHC/LHC25ns_flat_top.yml'"
   ]
  },
  {
   "cell_type": "markdown",
   "metadata": {
    "slideshow": {
     "slide_type": "fragment"
    }
   },
   "source": [
    "# Generating the machine parameters and beam, in one object"
   ]
  },
  {
   "cell_type": "code",
   "execution_count": 31,
   "metadata": {
    "collapsed": false,
    "slideshow": {
     "slide_type": "-"
    }
   },
   "outputs": [
    {
     "name": "stdout",
     "output_type": "stream",
     "text": [
      "Warning!!! Acceleration is not possible (momentum increment is too big or voltage too low) at index [0 1]\n"
     ]
    }
   ],
   "source": [
    "machineParams = MachineParameters(machineParamsInput)"
   ]
  },
  {
   "cell_type": "code",
   "execution_count": 32,
   "metadata": {
    "collapsed": false,
    "slideshow": {
     "slide_type": "subslide"
    }
   },
   "outputs": [
    {
     "name": "stdout",
     "output_type": "stream",
     "text": [
      "[[  7.00000000e+12   7.00000000e+12]]\n",
      "[[ 7460.52259366  7460.52259366]]\n"
     ]
    }
   ],
   "source": [
    "print(machineParams.generalParams.momentum)\n",
    "print(machineParams.generalParams.gamma)"
   ]
  },
  {
   "cell_type": "markdown",
   "metadata": {
    "slideshow": {
     "slide_type": "slide"
    }
   },
   "source": [
    "# Calculating the beam current (line density)"
   ]
  },
  {
   "cell_type": "markdown",
   "metadata": {
    "slideshow": {
     "slide_type": "fragment"
    }
   },
   "source": [
    "## Defining the number of turns for the calculation and the number of points (or resolution in time, or maximum frequency for spectrum)"
   ]
  },
  {
   "cell_type": "code",
   "execution_count": 33,
   "metadata": {
    "collapsed": true,
    "slideshow": {
     "slide_type": "-"
    }
   },
   "outputs": [],
   "source": [
    "# machineParams.generateBeamCurrent(1, 2**19)\n",
    "# machineParams.generateBeamCurrent(1, resolutionTime=1e-10)\n",
    "machineParams.generateBeamCurrent(1, maxFreq=5e9)"
   ]
  },
  {
   "cell_type": "markdown",
   "metadata": {
    "slideshow": {
     "slide_type": "subslide"
    }
   },
   "source": [
    "## Plotting the beam current"
   ]
  },
  {
   "cell_type": "code",
   "execution_count": 34,
   "metadata": {
    "collapsed": false,
    "slideshow": {
     "slide_type": "-"
    }
   },
   "outputs": [
    {
     "data": {
      "image/png": "[encoded data removed]",
      "text/plain": [
       "<matplotlib.figure.Figure at 0xd00e940>"
      ]
     },
     "metadata": {},
     "output_type": "display_data"
    }
   ],
   "source": [
    "plt.figure('Beam current')\n",
    "plt.clf()\n",
    "plt.plot(machineParams.timeArray*1e6, machineParams.beamCurrent)\n",
    "plt.xlabel('Time [$\\\\mu s$]')\n",
    "plt.ylabel('Current [A]')\n",
    "plt.tight_layout()"
   ]
  },
  {
   "cell_type": "markdown",
   "metadata": {
    "slideshow": {
     "slide_type": "slide"
    }
   },
   "source": [
    "# Calculating the beam spectrum"
   ]
  },
  {
   "cell_type": "markdown",
   "metadata": {
    "slideshow": {
     "slide_type": "fragment"
    }
   },
   "source": [
    "## No input needed if the beam current was computed previously"
   ]
  },
  {
   "cell_type": "code",
   "execution_count": 35,
   "metadata": {
    "collapsed": true,
    "slideshow": {
     "slide_type": "-"
    }
   },
   "outputs": [],
   "source": [
    "machineParams.generateBeamSpectrum()"
   ]
  },
  {
   "cell_type": "markdown",
   "metadata": {
    "slideshow": {
     "slide_type": "subslide"
    }
   },
   "source": [
    "## Plotting the beam spectrum"
   ]
  },
  {
   "cell_type": "code",
   "execution_count": 36,
   "metadata": {
    "collapsed": false,
    "slideshow": {
     "slide_type": "-"
    }
   },
   "outputs": [
    {
     "data": {
      "image/png": "[encoded data removed]",
      "text/plain": [
       "<matplotlib.figure.Figure at 0x3db3ac50>"
      ]
     },
     "metadata": {},
     "output_type": "display_data"
    }
   ],
   "source": [
    "plt.figure('Beam spectrum')\n",
    "plt.clf()\n",
    "plt.plot(machineParams.freqArray/1e9, np.abs(machineParams.beamSpectrum))\n",
    "plt.plot(machineParams.freqArray/1e9, np.abs(machineParams.analyticalSpectrum))\n",
    "plt.xlabel('Frequency [GHz]')\n",
    "plt.ylabel('Absolute spectrum [A]')\n",
    "plt.tight_layout()"
   ]
  },
  {
   "cell_type": "markdown",
   "metadata": {
    "slideshow": {
     "slide_type": "subslide"
    }
   },
   "source": [
    "## Plotting the normalized power spectrum"
   ]
  },
  {
   "cell_type": "code",
   "execution_count": null,
   "metadata": {
    "collapsed": false,
    "slideshow": {
     "slide_type": "-"
    }
   },
   "outputs": [],
   "source": [
    "plt.figure('Normalized power spectrum')\n",
    "plt.clf()\n",
    "plt.plot(machineParams.freqArray/1e9, 10*np.log10(np.abs(machineParams.beamSpectrum)**2./np.max(np.abs(machineParams.beamSpectrum)**2.)))\n",
    "plt.plot(machineParams.freqArray/1e9, 10*np.log10(np.abs(machineParams.analyticalSpectrum)**2./np.max(np.abs(machineParams.beamSpectrum)**2.)))\n",
    "plt.xlabel('Frequency [GHz]')\n",
    "plt.ylabel('Normalized power spectrum [dB]')\n",
    "plt.tight_layout()"
   ]
  },
  {
   "cell_type": "markdown",
   "metadata": {
    "slideshow": {
     "slide_type": "slide"
    }
   },
   "source": [
    "# Adding an impedance source"
   ]
  },
  {
   "cell_type": "markdown",
   "metadata": {
    "slideshow": {
     "slide_type": "fragment"
    }
   },
   "source": [
    "## Importing an impedance source or a full impedance model"
   ]
  },
  {
   "cell_type": "code",
   "execution_count": 37,
   "metadata": {
    "collapsed": true,
    "slideshow": {
     "slide_type": "-"
    }
   },
   "outputs": [],
   "source": [
    "impedanceDirectory = '../SPS_impedance'"
   ]
  },
  {
   "cell_type": "markdown",
   "metadata": {
    "slideshow": {
     "slide_type": "fragment"
    }
   },
   "source": [
    "## Generating the impedance object"
   ]
  },
  {
   "cell_type": "code",
   "execution_count": 38,
   "metadata": {
    "collapsed": true,
    "slideshow": {
     "slide_type": "-"
    }
   },
   "outputs": [],
   "source": [
    "impedParams = ImpedanceParameters(impedanceDirectory, machineParams)"
   ]
  },
  {
   "cell_type": "markdown",
   "metadata": {
    "slideshow": {
     "slide_type": "fragment"
    }
   },
   "source": [
    "## Importing resonators (R,f,Q)"
   ]
  },
  {
   "cell_type": "code",
   "execution_count": 39,
   "metadata": {
    "collapsed": true,
    "slideshow": {
     "slide_type": "-"
    }
   },
   "outputs": [],
   "source": [
    "impedParams.addResonators([360.5, 29.7119e3], [149e6, 781e6], [1119, 2198])"
   ]
  },
  {
   "cell_type": "markdown",
   "metadata": {
    "slideshow": {
     "slide_type": "subslide"
    }
   },
   "source": [
    "## Plotting the impedance on top of spectrum"
   ]
  },
  {
   "cell_type": "code",
   "execution_count": 40,
   "metadata": {
    "collapsed": false,
    "slideshow": {
     "slide_type": "-"
    }
   },
   "outputs": [
    {
     "data": {
      "image/png": "[encoded data removed]",
      "text/plain": [
       "<matplotlib.figure.Figure at 0x4af7e748>"
      ]
     },
     "metadata": {},
     "output_type": "display_data"
    }
   ],
   "source": [
    "plt.figure('Impedance')\n",
    "plt.clf()\n",
    "plt.plot(machineParams.freqArray/1e9, np.abs(machineParams.beamSpectrum)/np.max(np.abs(machineParams.beamSpectrum))*np.max(np.abs(impedParams.impedance)))\n",
    "plt.plot(impedParams.freqArray/1e9, np.abs(impedParams.impedance))\n",
    "plt.xlabel('Frequency [GHz]')\n",
    "plt.ylabel('Impedance [$\\\\Omega$]')\n",
    "plt.tight_layout()"
   ]
  },
  {
   "cell_type": "markdown",
   "metadata": {
    "slideshow": {
     "slide_type": "slide"
    }
   },
   "source": [
    "# Calculating the induced votlage"
   ]
  },
  {
   "cell_type": "markdown",
   "metadata": {
    "slideshow": {
     "slide_type": "fragment"
    }
   },
   "source": [
    "## Calculating the induced voltage, requires the beam current and impedance sources to be set"
   ]
  },
  {
   "cell_type": "code",
   "execution_count": 41,
   "metadata": {
    "collapsed": true,
    "slideshow": {
     "slide_type": "-"
    }
   },
   "outputs": [],
   "source": [
    "impedParams.inducedVoltageGeneration()"
   ]
  },
  {
   "cell_type": "markdown",
   "metadata": {
    "slideshow": {
     "slide_type": "subslide"
    }
   },
   "source": [
    "## Plotting the induced voltage on top of current"
   ]
  },
  {
   "cell_type": "code",
   "execution_count": 42,
   "metadata": {
    "collapsed": false,
    "slideshow": {
     "slide_type": "-"
    }
   },
   "outputs": [
    {
     "data": {
      "image/png": "[encoded data removed]",
      "text/plain": [
       "<matplotlib.figure.Figure at 0x4688d390>"
      ]
     },
     "metadata": {},
     "output_type": "display_data"
    }
   ],
   "source": [
    "plt.figure('Induced Voltage')\n",
    "plt.clf()\n",
    "plt.plot(machineParams.timeArray*1e6, machineParams.beamCurrent/np.max(machineParams.beamCurrent)*np.max(np.abs(impedParams.inducedVoltage)))\n",
    "plt.plot(impedParams.timeArray*1e6, impedParams.inducedVoltage)\n",
    "plt.xlabel('Time [$\\\\mu s$]')\n",
    "plt.ylabel('Induced voltage [V]')\n",
    "plt.tight_layout()"
   ]
  },
  {
   "cell_type": "markdown",
   "metadata": {
    "slideshow": {
     "slide_type": "slide"
    }
   },
   "source": [
    "# Calculating the RF losses"
   ]
  },
  {
   "cell_type": "markdown",
   "metadata": {
    "slideshow": {
     "slide_type": "fragment"
    }
   },
   "source": [
    "## Using the induced voltage to compute various things"
   ]
  },
  {
   "cell_type": "code",
   "execution_count": 43,
   "metadata": {
    "collapsed": true,
    "slideshow": {
     "slide_type": "-"
    }
   },
   "outputs": [],
   "source": [
    "impedParams.getRFLosses()"
   ]
  },
  {
   "cell_type": "code",
   "execution_count": 44,
   "metadata": {
    "collapsed": false,
    "slideshow": {
     "slide_type": "fragment"
    }
   },
   "outputs": [
    {
     "name": "stdout",
     "output_type": "stream",
     "text": [
      "-- Energy loss per turn: \n",
      "- Time: -4.33e+12 [eV]\n",
      "- Freq: -4.33e+12 [eV]\n",
      "\n",
      "-- Energy loss per turn: \n",
      "- Time: -6.93e-07 [J]\n",
      "- Freq: -6.93e-07 [J]\n",
      "\n",
      "-- Power loss averaged on turn: \n",
      "- Time: -7.80e-03 [W]\n",
      "- Freq: -7.80e-03 [W]\n",
      "\n"
     ]
    }
   ],
   "source": [
    "print('-- Energy loss per turn: \\n- Time: %.2e [eV]\\n- Freq: %.2e [eV]\\n' \n",
    "      %(impedParams.energyLossTime, impedParams.energyLossFreq))\n",
    "\n",
    "print('-- Energy loss per turn: \\n- Time: %.2e [J]\\n- Freq: %.2e [J]\\n' \n",
    "      %(impedParams.energyLossTime*e, impedParams.energyLossFreq*e))\n",
    "\n",
    "print('-- Power loss averaged on turn: \\n- Time: %.2e [W]\\n- Freq: %.2e [W]\\n' \n",
    "      %(impedParams.powerLossTime, impedParams.powerLossTime))"
   ]
  }
 ],
 "metadata": {
  "kernelspec": {
   "display_name": "Python 2",
   "language": "python",
   "name": "python2"
  },
  "language_info": {
   "codemirror_mode": {
    "name": "ipython",
    "version": 2
   },
   "file_extension": ".py",
   "mimetype": "text/x-python",
   "name": "python",
   "nbconvert_exporter": "python",
   "pygments_lexer": "ipython2",
   "version": "2.7.11"
  }
 },
 "nbformat": 4,
 "nbformat_minor": 0
}
